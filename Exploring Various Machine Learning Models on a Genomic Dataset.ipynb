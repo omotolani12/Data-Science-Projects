{
 "cells": [
  {
   "cell_type": "markdown",
   "metadata": {},
   "source": [
    "This project is about developing a supervised learning model on a genomic dataset. The dataset contains data about patients admitted in hospitals to treat COVID-19 cases. Some patients had a mild infection, while others had a severe one. The goal of this project is to build a supervised learning model to predict severe COVID-19 hospital admissions by using the genome sequencing of patients as predictors."
   ]
  },
  {
   "cell_type": "markdown",
   "metadata": {},
   "source": [
    "## 1. Data Processing\n",
    "\n",
    "\n",
    "\n",
    "1. Importing of some of the libraries needed for the project\n",
    "2. Data was collected and imported into this environment using pandas.\n",
    "3. The column \"sample\" was dropped. It is not needed for this project because it doesnt improve the outcome and also takes away any form of personalization\n",
    "4. Sex and Severity data was converted to binary form for data uniformity(All numerical data)\n",
    "5. The dataset was printed out to view the result after some data processing has been done\n",
    "6. Data was checked for missing values so columns with a level of missing values can be dropped to reduce dimensionality.\n",
    "7. X and Y was defined for the training and test process\n",
    "8.Structure of X was viewed and examined ensure it meets my required standard\n",
    "9.Structure of Y was viewed and examined to ensure it meets my required standard\n",
    "10.The dataset X was printed out to view the result after some data processing has been done\n",
    "11.The dataset Y was printed out to view the result after some data processing has been done"
   ]
  },
  {
   "cell_type": "code",
   "execution_count": 1,
   "metadata": {},
   "outputs": [],
   "source": [
    "import numpy as np #imports the library numpy\n",
    "import matplotlib.pyplot as plt #imports the library matplotlib for visualization\n",
    "import pandas as pd #imports the library numpy for working with dataframes\n",
    "import math"
   ]
  },
  {
   "cell_type": "code",
   "execution_count": 2,
   "metadata": {},
   "outputs": [
    {
     "data": {
      "text/html": [
       "<div>\n",
       "<style scoped>\n",
       "    .dataframe tbody tr th:only-of-type {\n",
       "        vertical-align: middle;\n",
       "    }\n",
       "\n",
       "    .dataframe tbody tr th {\n",
       "        vertical-align: top;\n",
       "    }\n",
       "\n",
       "    .dataframe thead th {\n",
       "        text-align: right;\n",
       "    }\n",
       "</style>\n",
       "<table border=\"1\" class=\"dataframe\">\n",
       "  <thead>\n",
       "    <tr style=\"text-align: right;\">\n",
       "      <th></th>\n",
       "      <th>Sample</th>\n",
       "      <th>Age</th>\n",
       "      <th>Sex</th>\n",
       "      <th>Severity</th>\n",
       "      <th>A1BG</th>\n",
       "      <th>A1CF</th>\n",
       "      <th>A2M</th>\n",
       "      <th>A2ML1</th>\n",
       "      <th>A3GALT2</th>\n",
       "      <th>A4GALT</th>\n",
       "      <th>...</th>\n",
       "      <th>ZWILCH</th>\n",
       "      <th>ZWINT</th>\n",
       "      <th>ZXDA</th>\n",
       "      <th>ZXDB</th>\n",
       "      <th>ZXDC</th>\n",
       "      <th>ZYG11A</th>\n",
       "      <th>ZYG11B</th>\n",
       "      <th>ZYX</th>\n",
       "      <th>ZZEF1</th>\n",
       "      <th>ZZZ3</th>\n",
       "    </tr>\n",
       "  </thead>\n",
       "  <tbody>\n",
       "    <tr>\n",
       "      <th>0</th>\n",
       "      <td>C1</td>\n",
       "      <td>39</td>\n",
       "      <td>male</td>\n",
       "      <td>NonICU</td>\n",
       "      <td>0.49</td>\n",
       "      <td>0.00</td>\n",
       "      <td>0.21</td>\n",
       "      <td>0.04</td>\n",
       "      <td>0.07</td>\n",
       "      <td>0.0</td>\n",
       "      <td>...</td>\n",
       "      <td>2.84</td>\n",
       "      <td>4.22</td>\n",
       "      <td>0.95</td>\n",
       "      <td>1.63</td>\n",
       "      <td>15.51</td>\n",
       "      <td>0.06</td>\n",
       "      <td>8.17</td>\n",
       "      <td>363.01</td>\n",
       "      <td>19.17</td>\n",
       "      <td>6.05</td>\n",
       "    </tr>\n",
       "    <tr>\n",
       "      <th>1</th>\n",
       "      <td>C2</td>\n",
       "      <td>63</td>\n",
       "      <td>male</td>\n",
       "      <td>NonICU</td>\n",
       "      <td>0.29</td>\n",
       "      <td>0.00</td>\n",
       "      <td>0.14</td>\n",
       "      <td>0.00</td>\n",
       "      <td>0.00</td>\n",
       "      <td>0.0</td>\n",
       "      <td>...</td>\n",
       "      <td>3.55</td>\n",
       "      <td>12.15</td>\n",
       "      <td>0.60</td>\n",
       "      <td>1.15</td>\n",
       "      <td>15.62</td>\n",
       "      <td>0.14</td>\n",
       "      <td>8.20</td>\n",
       "      <td>399.80</td>\n",
       "      <td>15.72</td>\n",
       "      <td>4.12</td>\n",
       "    </tr>\n",
       "    <tr>\n",
       "      <th>2</th>\n",
       "      <td>C3</td>\n",
       "      <td>33</td>\n",
       "      <td>male</td>\n",
       "      <td>NonICU</td>\n",
       "      <td>0.26</td>\n",
       "      <td>0.00</td>\n",
       "      <td>0.03</td>\n",
       "      <td>0.02</td>\n",
       "      <td>0.00</td>\n",
       "      <td>0.0</td>\n",
       "      <td>...</td>\n",
       "      <td>1.34</td>\n",
       "      <td>2.79</td>\n",
       "      <td>0.18</td>\n",
       "      <td>0.32</td>\n",
       "      <td>17.67</td>\n",
       "      <td>0.28</td>\n",
       "      <td>3.62</td>\n",
       "      <td>430.35</td>\n",
       "      <td>13.95</td>\n",
       "      <td>1.81</td>\n",
       "    </tr>\n",
       "    <tr>\n",
       "      <th>3</th>\n",
       "      <td>C4</td>\n",
       "      <td>49</td>\n",
       "      <td>male</td>\n",
       "      <td>NonICU</td>\n",
       "      <td>0.45</td>\n",
       "      <td>0.01</td>\n",
       "      <td>0.09</td>\n",
       "      <td>0.07</td>\n",
       "      <td>0.00</td>\n",
       "      <td>0.0</td>\n",
       "      <td>...</td>\n",
       "      <td>3.71</td>\n",
       "      <td>5.87</td>\n",
       "      <td>1.40</td>\n",
       "      <td>2.21</td>\n",
       "      <td>15.61</td>\n",
       "      <td>0.27</td>\n",
       "      <td>7.88</td>\n",
       "      <td>209.25</td>\n",
       "      <td>14.78</td>\n",
       "      <td>7.15</td>\n",
       "    </tr>\n",
       "    <tr>\n",
       "      <th>4</th>\n",
       "      <td>C5</td>\n",
       "      <td>49</td>\n",
       "      <td>male</td>\n",
       "      <td>NonICU</td>\n",
       "      <td>0.17</td>\n",
       "      <td>0.00</td>\n",
       "      <td>0.00</td>\n",
       "      <td>0.05</td>\n",
       "      <td>0.07</td>\n",
       "      <td>0.0</td>\n",
       "      <td>...</td>\n",
       "      <td>1.44</td>\n",
       "      <td>4.46</td>\n",
       "      <td>0.28</td>\n",
       "      <td>0.55</td>\n",
       "      <td>9.34</td>\n",
       "      <td>0.07</td>\n",
       "      <td>5.96</td>\n",
       "      <td>272.91</td>\n",
       "      <td>8.69</td>\n",
       "      <td>2.70</td>\n",
       "    </tr>\n",
       "  </tbody>\n",
       "</table>\n",
       "<p>5 rows × 19476 columns</p>\n",
       "</div>"
      ],
      "text/plain": [
       "  Sample  Age   Sex Severity  A1BG  A1CF   A2M  A2ML1  A3GALT2  A4GALT  ...  \\\n",
       "0     C1   39  male   NonICU  0.49  0.00  0.21   0.04     0.07     0.0  ...   \n",
       "1     C2   63  male   NonICU  0.29  0.00  0.14   0.00     0.00     0.0  ...   \n",
       "2     C3   33  male   NonICU  0.26  0.00  0.03   0.02     0.00     0.0  ...   \n",
       "3     C4   49  male   NonICU  0.45  0.01  0.09   0.07     0.00     0.0  ...   \n",
       "4     C5   49  male   NonICU  0.17  0.00  0.00   0.05     0.07     0.0  ...   \n",
       "\n",
       "   ZWILCH  ZWINT  ZXDA  ZXDB   ZXDC  ZYG11A  ZYG11B     ZYX  ZZEF1  ZZZ3  \n",
       "0    2.84   4.22  0.95  1.63  15.51    0.06    8.17  363.01  19.17  6.05  \n",
       "1    3.55  12.15  0.60  1.15  15.62    0.14    8.20  399.80  15.72  4.12  \n",
       "2    1.34   2.79  0.18  0.32  17.67    0.28    3.62  430.35  13.95  1.81  \n",
       "3    3.71   5.87  1.40  2.21  15.61    0.27    7.88  209.25  14.78  7.15  \n",
       "4    1.44   4.46  0.28  0.55   9.34    0.07    5.96  272.91   8.69  2.70  \n",
       "\n",
       "[5 rows x 19476 columns]"
      ]
     },
     "execution_count": 2,
     "metadata": {},
     "output_type": "execute_result"
    }
   ],
   "source": [
    "#Here we are loading our dataset as an csv file\n",
    "covid_data = pd.read_csv(\"covid_data.csv\")\n",
    "covid_data.head()\n"
   ]
  },
  {
   "cell_type": "code",
   "execution_count": 3,
   "metadata": {},
   "outputs": [],
   "source": [
    "#The column \"sample\" was dropped. It is not needed for this project because it doesnt improve the outcome and also takes away any form of personalization\n",
    "covid_data.drop('Sample', inplace=True, axis=1)"
   ]
  },
  {
   "cell_type": "code",
   "execution_count": 4,
   "metadata": {},
   "outputs": [],
   "source": [
    "covid_data['Severity'] = covid_data['Severity'].map({'NonICU':1,'ICU':0}) #Changing objects to binary\n",
    "covid_data['Sex'] = covid_data['Sex'].map({'male':0,'female':1,'unknown':2})"
   ]
  },
  {
   "cell_type": "code",
   "execution_count": 5,
   "metadata": {},
   "outputs": [
    {
     "data": {
      "text/html": [
       "<div>\n",
       "<style scoped>\n",
       "    .dataframe tbody tr th:only-of-type {\n",
       "        vertical-align: middle;\n",
       "    }\n",
       "\n",
       "    .dataframe tbody tr th {\n",
       "        vertical-align: top;\n",
       "    }\n",
       "\n",
       "    .dataframe thead th {\n",
       "        text-align: right;\n",
       "    }\n",
       "</style>\n",
       "<table border=\"1\" class=\"dataframe\">\n",
       "  <thead>\n",
       "    <tr style=\"text-align: right;\">\n",
       "      <th></th>\n",
       "      <th>Age</th>\n",
       "      <th>Sex</th>\n",
       "      <th>Severity</th>\n",
       "      <th>A1BG</th>\n",
       "      <th>A1CF</th>\n",
       "      <th>A2M</th>\n",
       "      <th>A2ML1</th>\n",
       "      <th>A3GALT2</th>\n",
       "      <th>A4GALT</th>\n",
       "      <th>A4GNT</th>\n",
       "      <th>...</th>\n",
       "      <th>ZWILCH</th>\n",
       "      <th>ZWINT</th>\n",
       "      <th>ZXDA</th>\n",
       "      <th>ZXDB</th>\n",
       "      <th>ZXDC</th>\n",
       "      <th>ZYG11A</th>\n",
       "      <th>ZYG11B</th>\n",
       "      <th>ZYX</th>\n",
       "      <th>ZZEF1</th>\n",
       "      <th>ZZZ3</th>\n",
       "    </tr>\n",
       "  </thead>\n",
       "  <tbody>\n",
       "    <tr>\n",
       "      <th>0</th>\n",
       "      <td>39</td>\n",
       "      <td>0</td>\n",
       "      <td>1</td>\n",
       "      <td>0.49</td>\n",
       "      <td>0.00</td>\n",
       "      <td>0.21</td>\n",
       "      <td>0.04</td>\n",
       "      <td>0.07</td>\n",
       "      <td>0.0</td>\n",
       "      <td>0.03</td>\n",
       "      <td>...</td>\n",
       "      <td>2.84</td>\n",
       "      <td>4.22</td>\n",
       "      <td>0.95</td>\n",
       "      <td>1.63</td>\n",
       "      <td>15.51</td>\n",
       "      <td>0.06</td>\n",
       "      <td>8.17</td>\n",
       "      <td>363.01</td>\n",
       "      <td>19.17</td>\n",
       "      <td>6.05</td>\n",
       "    </tr>\n",
       "    <tr>\n",
       "      <th>1</th>\n",
       "      <td>63</td>\n",
       "      <td>0</td>\n",
       "      <td>1</td>\n",
       "      <td>0.29</td>\n",
       "      <td>0.00</td>\n",
       "      <td>0.14</td>\n",
       "      <td>0.00</td>\n",
       "      <td>0.00</td>\n",
       "      <td>0.0</td>\n",
       "      <td>0.05</td>\n",
       "      <td>...</td>\n",
       "      <td>3.55</td>\n",
       "      <td>12.15</td>\n",
       "      <td>0.60</td>\n",
       "      <td>1.15</td>\n",
       "      <td>15.62</td>\n",
       "      <td>0.14</td>\n",
       "      <td>8.20</td>\n",
       "      <td>399.80</td>\n",
       "      <td>15.72</td>\n",
       "      <td>4.12</td>\n",
       "    </tr>\n",
       "    <tr>\n",
       "      <th>2</th>\n",
       "      <td>33</td>\n",
       "      <td>0</td>\n",
       "      <td>1</td>\n",
       "      <td>0.26</td>\n",
       "      <td>0.00</td>\n",
       "      <td>0.03</td>\n",
       "      <td>0.02</td>\n",
       "      <td>0.00</td>\n",
       "      <td>0.0</td>\n",
       "      <td>0.07</td>\n",
       "      <td>...</td>\n",
       "      <td>1.34</td>\n",
       "      <td>2.79</td>\n",
       "      <td>0.18</td>\n",
       "      <td>0.32</td>\n",
       "      <td>17.67</td>\n",
       "      <td>0.28</td>\n",
       "      <td>3.62</td>\n",
       "      <td>430.35</td>\n",
       "      <td>13.95</td>\n",
       "      <td>1.81</td>\n",
       "    </tr>\n",
       "    <tr>\n",
       "      <th>3</th>\n",
       "      <td>49</td>\n",
       "      <td>0</td>\n",
       "      <td>1</td>\n",
       "      <td>0.45</td>\n",
       "      <td>0.01</td>\n",
       "      <td>0.09</td>\n",
       "      <td>0.07</td>\n",
       "      <td>0.00</td>\n",
       "      <td>0.0</td>\n",
       "      <td>0.00</td>\n",
       "      <td>...</td>\n",
       "      <td>3.71</td>\n",
       "      <td>5.87</td>\n",
       "      <td>1.40</td>\n",
       "      <td>2.21</td>\n",
       "      <td>15.61</td>\n",
       "      <td>0.27</td>\n",
       "      <td>7.88</td>\n",
       "      <td>209.25</td>\n",
       "      <td>14.78</td>\n",
       "      <td>7.15</td>\n",
       "    </tr>\n",
       "    <tr>\n",
       "      <th>4</th>\n",
       "      <td>49</td>\n",
       "      <td>0</td>\n",
       "      <td>1</td>\n",
       "      <td>0.17</td>\n",
       "      <td>0.00</td>\n",
       "      <td>0.00</td>\n",
       "      <td>0.05</td>\n",
       "      <td>0.07</td>\n",
       "      <td>0.0</td>\n",
       "      <td>0.00</td>\n",
       "      <td>...</td>\n",
       "      <td>1.44</td>\n",
       "      <td>4.46</td>\n",
       "      <td>0.28</td>\n",
       "      <td>0.55</td>\n",
       "      <td>9.34</td>\n",
       "      <td>0.07</td>\n",
       "      <td>5.96</td>\n",
       "      <td>272.91</td>\n",
       "      <td>8.69</td>\n",
       "      <td>2.70</td>\n",
       "    </tr>\n",
       "  </tbody>\n",
       "</table>\n",
       "<p>5 rows × 19475 columns</p>\n",
       "</div>"
      ],
      "text/plain": [
       "   Age  Sex  Severity  A1BG  A1CF   A2M  A2ML1  A3GALT2  A4GALT  A4GNT  ...  \\\n",
       "0   39    0         1  0.49  0.00  0.21   0.04     0.07     0.0   0.03  ...   \n",
       "1   63    0         1  0.29  0.00  0.14   0.00     0.00     0.0   0.05  ...   \n",
       "2   33    0         1  0.26  0.00  0.03   0.02     0.00     0.0   0.07  ...   \n",
       "3   49    0         1  0.45  0.01  0.09   0.07     0.00     0.0   0.00  ...   \n",
       "4   49    0         1  0.17  0.00  0.00   0.05     0.07     0.0   0.00  ...   \n",
       "\n",
       "   ZWILCH  ZWINT  ZXDA  ZXDB   ZXDC  ZYG11A  ZYG11B     ZYX  ZZEF1  ZZZ3  \n",
       "0    2.84   4.22  0.95  1.63  15.51    0.06    8.17  363.01  19.17  6.05  \n",
       "1    3.55  12.15  0.60  1.15  15.62    0.14    8.20  399.80  15.72  4.12  \n",
       "2    1.34   2.79  0.18  0.32  17.67    0.28    3.62  430.35  13.95  1.81  \n",
       "3    3.71   5.87  1.40  2.21  15.61    0.27    7.88  209.25  14.78  7.15  \n",
       "4    1.44   4.46  0.28  0.55   9.34    0.07    5.96  272.91   8.69  2.70  \n",
       "\n",
       "[5 rows x 19475 columns]"
      ]
     },
     "execution_count": 5,
     "metadata": {},
     "output_type": "execute_result"
    }
   ],
   "source": [
    "#It is a high dimensional data since the number of features is greater than the number of observations\n",
    "covid_data.head()\n"
   ]
  },
  {
   "cell_type": "code",
   "execution_count": 6,
   "metadata": {},
   "outputs": [
    {
     "data": {
      "text/plain": [
       "0"
      ]
     },
     "execution_count": 6,
     "metadata": {},
     "output_type": "execute_result"
    }
   ],
   "source": [
    "#This was done to see if the dataset has missing values and to also drop columns with the most missing values to help reduce dimensionality but we have zero missing values in the dataset\n",
    "covid_data.isna().sum().sum()"
   ]
  },
  {
   "cell_type": "code",
   "execution_count": 7,
   "metadata": {},
   "outputs": [],
   "source": [
    "#This block separates features (X) from outcomes (y)\n",
    "X = covid_data.drop('Severity', axis=1) \n",
    "y = covid_data['Severity']"
   ]
  },
  {
   "cell_type": "code",
   "execution_count": 8,
   "metadata": {},
   "outputs": [
    {
     "data": {
      "text/plain": [
       "(126, 19474)"
      ]
     },
     "execution_count": 8,
     "metadata": {},
     "output_type": "execute_result"
    }
   ],
   "source": [
    "X.shape #To view the data structure of X\n",
    "#It is a high dimensional data since the number of features is greater than the number of observations"
   ]
  },
  {
   "cell_type": "code",
   "execution_count": 9,
   "metadata": {},
   "outputs": [
    {
     "data": {
      "text/plain": [
       "(126,)"
      ]
     },
     "execution_count": 9,
     "metadata": {},
     "output_type": "execute_result"
    }
   ],
   "source": [
    "y.shape #To view the data structure of y"
   ]
  },
  {
   "cell_type": "code",
   "execution_count": 10,
   "metadata": {},
   "outputs": [
    {
     "data": {
      "text/html": [
       "<div>\n",
       "<style scoped>\n",
       "    .dataframe tbody tr th:only-of-type {\n",
       "        vertical-align: middle;\n",
       "    }\n",
       "\n",
       "    .dataframe tbody tr th {\n",
       "        vertical-align: top;\n",
       "    }\n",
       "\n",
       "    .dataframe thead th {\n",
       "        text-align: right;\n",
       "    }\n",
       "</style>\n",
       "<table border=\"1\" class=\"dataframe\">\n",
       "  <thead>\n",
       "    <tr style=\"text-align: right;\">\n",
       "      <th></th>\n",
       "      <th>Age</th>\n",
       "      <th>Sex</th>\n",
       "      <th>A1BG</th>\n",
       "      <th>A1CF</th>\n",
       "      <th>A2M</th>\n",
       "      <th>A2ML1</th>\n",
       "      <th>A3GALT2</th>\n",
       "      <th>A4GALT</th>\n",
       "      <th>A4GNT</th>\n",
       "      <th>AAAS</th>\n",
       "      <th>...</th>\n",
       "      <th>ZWILCH</th>\n",
       "      <th>ZWINT</th>\n",
       "      <th>ZXDA</th>\n",
       "      <th>ZXDB</th>\n",
       "      <th>ZXDC</th>\n",
       "      <th>ZYG11A</th>\n",
       "      <th>ZYG11B</th>\n",
       "      <th>ZYX</th>\n",
       "      <th>ZZEF1</th>\n",
       "      <th>ZZZ3</th>\n",
       "    </tr>\n",
       "  </thead>\n",
       "  <tbody>\n",
       "    <tr>\n",
       "      <th>0</th>\n",
       "      <td>39</td>\n",
       "      <td>0</td>\n",
       "      <td>0.49</td>\n",
       "      <td>0.00</td>\n",
       "      <td>0.21</td>\n",
       "      <td>0.04</td>\n",
       "      <td>0.07</td>\n",
       "      <td>0.0</td>\n",
       "      <td>0.03</td>\n",
       "      <td>18.92</td>\n",
       "      <td>...</td>\n",
       "      <td>2.84</td>\n",
       "      <td>4.22</td>\n",
       "      <td>0.95</td>\n",
       "      <td>1.63</td>\n",
       "      <td>15.51</td>\n",
       "      <td>0.06</td>\n",
       "      <td>8.17</td>\n",
       "      <td>363.01</td>\n",
       "      <td>19.17</td>\n",
       "      <td>6.05</td>\n",
       "    </tr>\n",
       "    <tr>\n",
       "      <th>1</th>\n",
       "      <td>63</td>\n",
       "      <td>0</td>\n",
       "      <td>0.29</td>\n",
       "      <td>0.00</td>\n",
       "      <td>0.14</td>\n",
       "      <td>0.00</td>\n",
       "      <td>0.00</td>\n",
       "      <td>0.0</td>\n",
       "      <td>0.05</td>\n",
       "      <td>18.68</td>\n",
       "      <td>...</td>\n",
       "      <td>3.55</td>\n",
       "      <td>12.15</td>\n",
       "      <td>0.60</td>\n",
       "      <td>1.15</td>\n",
       "      <td>15.62</td>\n",
       "      <td>0.14</td>\n",
       "      <td>8.20</td>\n",
       "      <td>399.80</td>\n",
       "      <td>15.72</td>\n",
       "      <td>4.12</td>\n",
       "    </tr>\n",
       "    <tr>\n",
       "      <th>2</th>\n",
       "      <td>33</td>\n",
       "      <td>0</td>\n",
       "      <td>0.26</td>\n",
       "      <td>0.00</td>\n",
       "      <td>0.03</td>\n",
       "      <td>0.02</td>\n",
       "      <td>0.00</td>\n",
       "      <td>0.0</td>\n",
       "      <td>0.07</td>\n",
       "      <td>13.85</td>\n",
       "      <td>...</td>\n",
       "      <td>1.34</td>\n",
       "      <td>2.79</td>\n",
       "      <td>0.18</td>\n",
       "      <td>0.32</td>\n",
       "      <td>17.67</td>\n",
       "      <td>0.28</td>\n",
       "      <td>3.62</td>\n",
       "      <td>430.35</td>\n",
       "      <td>13.95</td>\n",
       "      <td>1.81</td>\n",
       "    </tr>\n",
       "    <tr>\n",
       "      <th>3</th>\n",
       "      <td>49</td>\n",
       "      <td>0</td>\n",
       "      <td>0.45</td>\n",
       "      <td>0.01</td>\n",
       "      <td>0.09</td>\n",
       "      <td>0.07</td>\n",
       "      <td>0.00</td>\n",
       "      <td>0.0</td>\n",
       "      <td>0.00</td>\n",
       "      <td>22.11</td>\n",
       "      <td>...</td>\n",
       "      <td>3.71</td>\n",
       "      <td>5.87</td>\n",
       "      <td>1.40</td>\n",
       "      <td>2.21</td>\n",
       "      <td>15.61</td>\n",
       "      <td>0.27</td>\n",
       "      <td>7.88</td>\n",
       "      <td>209.25</td>\n",
       "      <td>14.78</td>\n",
       "      <td>7.15</td>\n",
       "    </tr>\n",
       "    <tr>\n",
       "      <th>4</th>\n",
       "      <td>49</td>\n",
       "      <td>0</td>\n",
       "      <td>0.17</td>\n",
       "      <td>0.00</td>\n",
       "      <td>0.00</td>\n",
       "      <td>0.05</td>\n",
       "      <td>0.07</td>\n",
       "      <td>0.0</td>\n",
       "      <td>0.00</td>\n",
       "      <td>8.45</td>\n",
       "      <td>...</td>\n",
       "      <td>1.44</td>\n",
       "      <td>4.46</td>\n",
       "      <td>0.28</td>\n",
       "      <td>0.55</td>\n",
       "      <td>9.34</td>\n",
       "      <td>0.07</td>\n",
       "      <td>5.96</td>\n",
       "      <td>272.91</td>\n",
       "      <td>8.69</td>\n",
       "      <td>2.70</td>\n",
       "    </tr>\n",
       "  </tbody>\n",
       "</table>\n",
       "<p>5 rows × 19474 columns</p>\n",
       "</div>"
      ],
      "text/plain": [
       "   Age  Sex  A1BG  A1CF   A2M  A2ML1  A3GALT2  A4GALT  A4GNT   AAAS  ...  \\\n",
       "0   39    0  0.49  0.00  0.21   0.04     0.07     0.0   0.03  18.92  ...   \n",
       "1   63    0  0.29  0.00  0.14   0.00     0.00     0.0   0.05  18.68  ...   \n",
       "2   33    0  0.26  0.00  0.03   0.02     0.00     0.0   0.07  13.85  ...   \n",
       "3   49    0  0.45  0.01  0.09   0.07     0.00     0.0   0.00  22.11  ...   \n",
       "4   49    0  0.17  0.00  0.00   0.05     0.07     0.0   0.00   8.45  ...   \n",
       "\n",
       "   ZWILCH  ZWINT  ZXDA  ZXDB   ZXDC  ZYG11A  ZYG11B     ZYX  ZZEF1  ZZZ3  \n",
       "0    2.84   4.22  0.95  1.63  15.51    0.06    8.17  363.01  19.17  6.05  \n",
       "1    3.55  12.15  0.60  1.15  15.62    0.14    8.20  399.80  15.72  4.12  \n",
       "2    1.34   2.79  0.18  0.32  17.67    0.28    3.62  430.35  13.95  1.81  \n",
       "3    3.71   5.87  1.40  2.21  15.61    0.27    7.88  209.25  14.78  7.15  \n",
       "4    1.44   4.46  0.28  0.55   9.34    0.07    5.96  272.91   8.69  2.70  \n",
       "\n",
       "[5 rows x 19474 columns]"
      ]
     },
     "execution_count": 10,
     "metadata": {},
     "output_type": "execute_result"
    }
   ],
   "source": [
    "X.head() #To view the first five data in X and confirm it is in the required format"
   ]
  },
  {
   "cell_type": "code",
   "execution_count": 11,
   "metadata": {},
   "outputs": [
    {
     "data": {
      "text/plain": [
       "0    1\n",
       "1    1\n",
       "2    1\n",
       "3    1\n",
       "4    1\n",
       "Name: Severity, dtype: int64"
      ]
     },
     "execution_count": 11,
     "metadata": {},
     "output_type": "execute_result"
    }
   ],
   "source": [
    "y.head() #To view the first five data in X and confirm it is in the required f"
   ]
  },
  {
   "cell_type": "markdown",
   "metadata": {},
   "source": [
    "## 2. Training and tuning\n",
    "\n",
    "Please note that PCA and reglarization was not included to reduce dimensionality because it didn't change the performance of the model.\n",
    "\n",
    "12. The block below splits our dataset into training(80%) and testing(20%). We keep test data unseen so we can use later on to measure the performance of our model.\n",
    "\n",
    "15. The shape of the X_train and y_test data was printed to see the splitting result\n",
    "\n",
    "16.  The value count of Y train and test was checked to ensure there was a proper or close to eaqual split for the model to learn from.\n",
    "\n",
    "17. Standardization was done for X for because the features of the iput data X have difference beteween their range(some columns have values as low as 0.1 and others as high as 430.35). Standardization was used to transform features to comparable scales before implementing SVM\n",
    "\n",
    "18. SVM was one models used first to compare accuracries accross models before picking the best fit for the data. I decided to try linear SVM kernel because the data had a large number of features and it is linearly separable in high dimensional space.\n",
    "\n",
    "19. Accuracy of all SVM kernel of the test data set was printed out for evaluation. I did not show to prediction reult and confusion matrix for this model because i ended up selecting logistic regression.\n",
    "\n",
    "20. Creating tuning and validation data for k-cross validation before using Logistic regression. This was done to ensure that every observation in the dataset has chance to appearing because performs training 'k'number of time which gives a better insight.Tuning data is composed by 80% of data, the remaining 20% of data goes to the validation set.The variablerandom_state indicates the seed of the shuffling (for reproducibility reasons).\n",
    "\n",
    "23. PIPELINE FOR IMPLEMENTING LOGISTIC REGRESSION\n",
    "\n",
    "Standardisation of features:- Standardization was used to transform features to comparable scales before implementing logistic regression\n",
    "Logistic regression was used since we were solving a binary classification problem.\n",
    "Random Forest was also explored to further see the best model because it is a model good for datasets with numerous features\n",
    "As for the logistic regression, we are using the LogisticRegression module from sklearn.linear_model. \n",
    "\n",
    "Some important parameters defined in the LogisticRegression module are:\n",
    "\n",
    "C. Inverse of regularization strength; must be a positive float. Smaller values was used to specify stronger regularization.\n",
    "Random_state was used reproducibility reasons.\n"
   ]
  },
  {
   "cell_type": "code",
   "execution_count": 12,
   "metadata": {},
   "outputs": [],
   "source": [
    "#This block below splits our dataset into training(80%) and testing(20%). We keep test data unseen, so to later on measure the performance of our model.\n",
    "from sklearn.model_selection import train_test_split\n",
    "X_train, X_test, y_train, y_test = train_test_split(X, y, test_size = 0.20)"
   ]
  },
  {
   "cell_type": "code",
   "execution_count": 13,
   "metadata": {},
   "outputs": [
    {
     "data": {
      "text/plain": [
       "(100, 19474)"
      ]
     },
     "execution_count": 13,
     "metadata": {},
     "output_type": "execute_result"
    }
   ],
   "source": [
    "X_train.shape #Features on training data contain 100 observations"
   ]
  },
  {
   "cell_type": "code",
   "execution_count": 14,
   "metadata": {},
   "outputs": [
    {
     "data": {
      "text/plain": [
       "(26,)"
      ]
     },
     "execution_count": 14,
     "metadata": {},
     "output_type": "execute_result"
    }
   ],
   "source": [
    "y_test.shape #Features on test data contain 26 observations"
   ]
  },
  {
   "cell_type": "code",
   "execution_count": 15,
   "metadata": {},
   "outputs": [
    {
     "data": {
      "text/plain": [
       "1    51\n",
       "0    49\n",
       "Name: Severity, dtype: int64"
      ]
     },
     "execution_count": 15,
     "metadata": {},
     "output_type": "execute_result"
    }
   ],
   "source": [
    "y_train.value_counts() #Feature on y train contains 51 ICU cases and 49 non-icu cases"
   ]
  },
  {
   "cell_type": "code",
   "execution_count": 16,
   "metadata": {},
   "outputs": [
    {
     "data": {
      "text/plain": [
       "0    17\n",
       "1     9\n",
       "Name: Severity, dtype: int64"
      ]
     },
     "execution_count": 16,
     "metadata": {},
     "output_type": "execute_result"
    }
   ],
   "source": [
    "y_test.value_counts()#Feature on y train contains 17 ICU cases and 9 non-icu cases"
   ]
  },
  {
   "cell_type": "code",
   "execution_count": 17,
   "metadata": {},
   "outputs": [],
   "source": [
    "# Standardising  data\n",
    "#Standardization was used to transform features to comparable scales before implementing SVM\n",
    "from sklearn.preprocessing import StandardScaler # Library to standardise data\n",
    "scaler = StandardScaler()\n",
    "scaler.fit(X_train)\n",
    "X_train = scaler.transform(X_train) \n",
    "X_test = scaler.transform(X_test)\n",
    "    "
   ]
  },
  {
   "cell_type": "code",
   "execution_count": 18,
   "metadata": {},
   "outputs": [],
   "source": [
    "#Import svm model\n",
    "from sklearn import svm\n",
    "\n",
    "#Create many svm Classifier, one classifier for each kernel\n",
    "clf_lnr = svm.SVC(kernel='linear') # Linear Kernel\n",
    "clf_ply = svm.SVC(kernel='poly') # Polynomial Kernel\n",
    "clf_rbf = svm.SVC(kernel='rbf') # Radial Basis Function Kernel - Default value\n",
    "clf_sgm = svm.SVC(kernel='sigmoid') # Sigmoid Kernel\n",
    "\n",
    "#Train the model using the training sets\n",
    "clf_lnr.fit(X_train, y_train)\n",
    "clf_ply.fit(X_train, y_train)\n",
    "clf_rbf.fit(X_train, y_train)\n",
    "clf_sgm.fit(X_train, y_train)\n",
    "\n",
    "#Predict the response for test dataset\n",
    "pred_test_lnr = clf_lnr.predict(X_test)\n",
    "pred_test_ply = clf_ply.predict(X_test)\n",
    "pred_test_rbf = clf_rbf.predict(X_test)\n",
    "pred_test_sgm = clf_sgm.predict(X_test)"
   ]
  },
  {
   "cell_type": "code",
   "execution_count": 19,
   "metadata": {},
   "outputs": [
    {
     "name": "stdout",
     "output_type": "stream",
     "text": [
      "Accuracy SVM (Linear Kernel): 0.8461538461538461\n",
      "Accuracy SVM (Polynomial Kernel): 0.8076923076923077\n",
      "Accuracy SVM (Radial Kernel): 0.8076923076923077\n",
      "Accuracy SVM (Sigmoid Kernel): 0.8461538461538461\n"
     ]
    }
   ],
   "source": [
    "#Import scikit-learn metrics module for accuracy calculation\n",
    "from sklearn import metrics\n",
    "\n",
    "# Model Accuracy: how often is the classifier correct?\n",
    "#The accuracy on the linear kernel had the best result because our data is linearly separable.\n",
    "print(\"Accuracy SVM (Linear Kernel):\", metrics.accuracy_score(y_test, pred_test_lnr)) \n",
    "print(\"Accuracy SVM (Polynomial Kernel):\", metrics.accuracy_score(y_test, pred_test_ply))\n",
    "print(\"Accuracy SVM (Radial Kernel):\", metrics.accuracy_score(y_test, pred_test_rbf))\n",
    "print(\"Accuracy SVM (Sigmoid Kernel):\", metrics.accuracy_score(y_test, pred_test_sgm))"
   ]
  },
  {
   "cell_type": "code",
   "execution_count": 20,
   "metadata": {},
   "outputs": [],
   "source": [
    "#Creating tuning and validation data for k-cross validation before using Logistic regression\n",
    "#Splits our dataset into tuning and validation. We keep validation data unseen, so to later on measure the performance of our model.\n",
    "from sklearn.model_selection import train_test_split\n",
    "\n",
    "X_tuning, X_val, y_tuning, y_val = train_test_split(X, y, test_size=0.20, random_state=1, shuffle=True)"
   ]
  },
  {
   "cell_type": "code",
   "execution_count": 21,
   "metadata": {},
   "outputs": [
    {
     "data": {
      "text/plain": [
       "10"
      ]
     },
     "execution_count": 21,
     "metadata": {},
     "output_type": "execute_result"
    }
   ],
   "source": [
    "#This was done to ensure that every observation in the dataset has chance to appearing because it performs training 'k-1'number of time which gives a better insight\n",
    "#K was used as 10 to make it sufficiently reliable to test my model\n",
    "from sklearn.model_selection import KFold\n",
    "\n",
    "kf = KFold(n_splits = 10, shuffle=True, random_state=10)\n",
    "kf.get_n_splits(X)"
   ]
  },
  {
   "cell_type": "code",
   "execution_count": 22,
   "metadata": {},
   "outputs": [],
   "source": [
    "## For each alpha, perform k-fold cross validation\n",
    "for train_index, test_index in kf.split(X_tuning):\n",
    "        X_train, X_test = X_tuning.iloc[train_index], X_tuning.iloc[test_index]\n",
    "        y_train, y_test = y_tuning.iloc[train_index], y_tuning.iloc[test_index]"
   ]
  },
  {
   "cell_type": "code",
   "execution_count": 24,
   "metadata": {},
   "outputs": [
    {
     "name": "stdout",
     "output_type": "stream",
     "text": [
      "This took 2.262s\n"
     ]
    }
   ],
   "source": [
    "\n",
    "from sklearn.preprocessing import StandardScaler # Library to standardise data\n",
    "from sklearn.linear_model import LogisticRegression # Library to use Logistic Regression\n",
    "from sklearn.ensemble import RandomForestClassifier # Library to use Random Forest\n",
    "from sklearn.pipeline import Pipeline # Library to create a pipeline\n",
    "from time import time \n",
    "\n",
    "start = time()\n",
    "\n",
    "# Defining different pipelines\n",
    "\n",
    "pipe = Pipeline([('scaler', StandardScaler()), # scaling features\n",
    "                     ('logreg', LogisticRegression(C=1, random_state=5))]) # logistic regression\n",
    "rndf_clf = RandomForestClassifier(oob_score=True, random_state=10) # no need to scale features for random forest\n",
    "\n",
    "# Implementing our pipelines\n",
    "pipe.fit(X_train, y_train)\n",
    "rndf_clf.fit(X, y) # no need to use train-test in Random Forest, we are using the oob_score\n",
    "\n",
    "\n",
    "\n",
    "print(\"This took %0.3fs\" % (time() - start))"
   ]
  },
  {
   "cell_type": "markdown",
   "metadata": {},
   "source": [
    "## 3. Model validation\n",
    "\n",
    "\n",
    "\n",
    "28. I decided to use  logistic regression model because it gives a good confusion matrix and classification result compared to random forest.From the results it can be observed that there is only one misclassification for ICU cases and 1 misclassification for NonICU cases\n",
    "\n",
    "29. Precision is intuitively the ability of the classifier not to label as positive a sample that is negative and Logistic regression performed well for both NonICU(1) and ICU(0) cases\n",
    "The recall is intuitively the ability of the classifier to find all the positive samples Logistic regression also performed well for both NonICU(1) and ICU(0) cases"
   ]
  },
  {
   "cell_type": "code",
   "execution_count": 28,
   "metadata": {},
   "outputs": [
    {
     "name": "stdout",
     "output_type": "stream",
     "text": [
      "Logistic - Accuracy on train: 1.0\n",
      "Logistic - Accuracy on test: 0.8\n",
      " - \n",
      "Random Forest - Accuracy on train: 1.0\n",
      "Random Forest - Accuracy on test: 0.8015873015873016\n"
     ]
    }
   ],
   "source": [
    "#The accuracy of Logistic regrassion and random forest is printed out in this block\n",
    "from sklearn.metrics import accuracy_score\n",
    "\n",
    "print(\"Logistic - Accuracy on train:\", accuracy_score(lreg_train.actual, lreg_train.fitted))\n",
    "print(\"Logistic - Accuracy on test:\", accuracy_score(lreg_test.actual, lreg_test.fitted))\n",
    "\n",
    "print(\" - \")\n",
    "print(\"Random Forest - Accuracy on train:\", accuracy_score(rndf_train.actual, rndf_train.fitted))\n",
    "print(\"Random Forest - Accuracy on test:\", rndf_clf.oob_score_) # the oob_score from random forest"
   ]
  },
  {
   "cell_type": "code",
   "execution_count": 29,
   "metadata": {},
   "outputs": [
    {
     "name": "stdout",
     "output_type": "stream",
     "text": [
      "[[3 1]\n",
      " [1 5]]\n",
      "              precision    recall  f1-score   support\n",
      "\n",
      "           0       0.75      0.75      0.75         4\n",
      "           1       0.83      0.83      0.83         6\n",
      "\n",
      "    accuracy                           0.80        10\n",
      "   macro avg       0.79      0.79      0.79        10\n",
      "weighted avg       0.80      0.80      0.80        10\n",
      "\n"
     ]
    }
   ],
   "source": [
    "#From the results it can be observed that there is only one misclassification for ICU cases and 1 misclassification for NonICU cases\n",
    "#Precision is intuitively the ability of the classifier not to label as positive a sample that is negative and Logistic regression performed well for both NonICU(1) and ICU(0) cases\n",
    "#The recall is intuitively the ability of the classifier to find all the positive samples Logistic regression also performed well for both NonICU(1) and ICU(0) cases\n",
    "from sklearn.metrics import classification_report, confusion_matrix\n",
    "\n",
    "cm = confusion_matrix(lreg_test.actual, lreg_test.fitted)\n",
    "print(cm)\n",
    "print(classification_report(lreg_test.actual, lreg_test.fitted))\n",
    "#This block below computes the precision, recall, f-score, macro and weighted average for each class of test data where 1 = Nonicu and 0 = ICU"
   ]
  },
  {
   "cell_type": "code",
   "execution_count": 30,
   "metadata": {},
   "outputs": [
    {
     "data": {
      "text/plain": [
       "0.5238095238095238"
      ]
     },
     "execution_count": 30,
     "metadata": {},
     "output_type": "execute_result"
    }
   ],
   "source": [
    "#Our accuracy is 0.80, which is a big jump from the value we would get from a dummy classifier.\n",
    "from sklearn.dummy import DummyClassifier\n",
    "\n",
    "dummy_clf = DummyClassifier(strategy=\"most_frequent\")\n",
    "dummy_clf.fit(X, y)\n",
    "DummyClassifier(strategy='most_frequent')\n",
    "dummy_clf.score(X, y)\n"
   ]
  },
  {
   "cell_type": "code",
   "execution_count": 31,
   "metadata": {},
   "outputs": [
    {
     "data": {
      "text/plain": [
       "array([[0.00609459, 0.00212979, 0.00036623, ..., 0.00337328, 0.00237115,\n",
       "        0.00011048]])"
      ]
     },
     "execution_count": 31,
     "metadata": {},
     "output_type": "execute_result"
    }
   ],
   "source": [
    "#Pipeline used was for standardization and logistic regression\n",
    "pipe[1].coef_"
   ]
  },
  {
   "cell_type": "markdown",
   "metadata": {},
   "source": [
    "## 4. Model interpretation\n",
    "\n",
    "\n",
    "The regression coefficient tells us if there is a positive or negative correlation between the independent variable and the dependent varable. \n",
    "The barplot below means that a negative change of ICU correspond to an increase of the probability of predicting a patients case as none 'Non-ICU' "
   ]
  },
  {
   "cell_type": "code",
   "execution_count": 32,
   "metadata": {},
   "outputs": [
    {
     "data": {
      "text/html": [
       "<div>\n",
       "<style scoped>\n",
       "    .dataframe tbody tr th:only-of-type {\n",
       "        vertical-align: middle;\n",
       "    }\n",
       "\n",
       "    .dataframe tbody tr th {\n",
       "        vertical-align: top;\n",
       "    }\n",
       "\n",
       "    .dataframe thead th {\n",
       "        text-align: right;\n",
       "    }\n",
       "</style>\n",
       "<table border=\"1\" class=\"dataframe\">\n",
       "  <thead>\n",
       "    <tr style=\"text-align: right;\">\n",
       "      <th></th>\n",
       "      <th>value0</th>\n",
       "      <th>beta</th>\n",
       "    </tr>\n",
       "  </thead>\n",
       "  <tbody>\n",
       "    <tr>\n",
       "      <th>0</th>\n",
       "      <td>0.006095</td>\n",
       "      <td>1.0</td>\n",
       "    </tr>\n",
       "    <tr>\n",
       "      <th>1</th>\n",
       "      <td>0.002130</td>\n",
       "      <td>1.0</td>\n",
       "    </tr>\n",
       "    <tr>\n",
       "      <th>2</th>\n",
       "      <td>0.000366</td>\n",
       "      <td>1.0</td>\n",
       "    </tr>\n",
       "    <tr>\n",
       "      <th>3</th>\n",
       "      <td>-0.001001</td>\n",
       "      <td>1.0</td>\n",
       "    </tr>\n",
       "    <tr>\n",
       "      <th>4</th>\n",
       "      <td>-0.000150</td>\n",
       "      <td>1.0</td>\n",
       "    </tr>\n",
       "  </tbody>\n",
       "</table>\n",
       "</div>"
      ],
      "text/plain": [
       "     value0  beta\n",
       "0  0.006095   1.0\n",
       "1  0.002130   1.0\n",
       "2  0.000366   1.0\n",
       "3 -0.001001   1.0\n",
       "4 -0.000150   1.0"
      ]
     },
     "execution_count": 32,
     "metadata": {},
     "output_type": "execute_result"
    }
   ],
   "source": [
    "#Logistic regression works only on binomial variables.\n",
    "#The result below shows the result for each observation\n",
    "#The barplot below futher expains the interpretation\n",
    "# ICU(1)  VS NONICU(0)\n",
    "coef = pd.DataFrame({\"value0\": pipe[1].coef_[0]})\n",
    "coef[\"beta\"] = y\n",
    "\n",
    "coef.head()"
   ]
  },
  {
   "cell_type": "code",
   "execution_count": 33,
   "metadata": {},
   "outputs": [
    {
     "data": {
      "text/plain": [
       "<matplotlib.axes._subplots.AxesSubplot at 0x26aec048ca0>"
      ]
     },
     "execution_count": 33,
     "metadata": {},
     "output_type": "execute_result"
    },
    {
     "data": {
      "image/png": "[encoded data removed]",
      "text/plain": [
       "<Figure size 720x360 with 1 Axes>"
      ]
     },
     "metadata": {},
     "output_type": "display_data"
    }
   ],
   "source": [
    "#The sign of a regression coefficient tells you whether there is a positive or negative correlation between each independent variable and the dependent variable\n",
    "#A negative coefficient suggests that as the independent variable(ICU) decreases, the dependent variable tends to increases(NON-ICU).\n",
    "#The barplot below means that a negative change of ICU correspond to an increase of the probability of predicting a patients case as none 'Non-ICU'\n",
    "import seaborn as sb\n",
    "sb.set(rc={'figure.figsize':(10,5)})\n",
    "sb.barplot(data = coef, x=\"beta\", y=\"value0\")\n"
   ]
  },
  {
   "cell_type": "code",
   "execution_count": 34,
   "metadata": {},
   "outputs": [
    {
     "data": {
      "text/plain": [
       "<matplotlib.axes._subplots.AxesSubplot at 0x26aec13a100>"
      ]
     },
     "execution_count": 34,
     "metadata": {},
     "output_type": "execute_result"
    },
    {
     "data": {
      "image/png": "[encoded data removed]",
      "text/plain": [
       "<Figure size 720x360 with 2 Axes>"
      ]
     },
     "metadata": {},
     "output_type": "display_data"
    }
   ],
   "source": [
    "#From the results it can be observed that there is only one misclassification for ICU cases and 1 misclassification for NonICU cases  which means our model is a good prediction model.\n",
    "import seaborn as sns\n",
    "sns.heatmap(cm, annot=True)"
   ]
  },
  {
   "cell_type": "markdown",
   "metadata": {},
   "source": [
    "## 5. Predictions\n",
    "\n",
    "\n",
    "27. The resutls below show the actual values against the fitted(test data) ones and we see a high level of accuracy which menas our model is able to predict unseen data accurately"
   ]
  },
  {
   "cell_type": "code",
   "execution_count": 27,
   "metadata": {},
   "outputs": [
    {
     "data": {
      "text/html": [
       "<div>\n",
       "<style scoped>\n",
       "    .dataframe tbody tr th:only-of-type {\n",
       "        vertical-align: middle;\n",
       "    }\n",
       "\n",
       "    .dataframe tbody tr th {\n",
       "        vertical-align: top;\n",
       "    }\n",
       "\n",
       "    .dataframe thead th {\n",
       "        text-align: right;\n",
       "    }\n",
       "</style>\n",
       "<table border=\"1\" class=\"dataframe\">\n",
       "  <thead>\n",
       "    <tr style=\"text-align: right;\">\n",
       "      <th></th>\n",
       "      <th>actual</th>\n",
       "      <th>fitted</th>\n",
       "    </tr>\n",
       "  </thead>\n",
       "  <tbody>\n",
       "    <tr>\n",
       "      <th>82</th>\n",
       "      <td>0</td>\n",
       "      <td>0</td>\n",
       "    </tr>\n",
       "    <tr>\n",
       "      <th>17</th>\n",
       "      <td>1</td>\n",
       "      <td>1</td>\n",
       "    </tr>\n",
       "    <tr>\n",
       "      <th>97</th>\n",
       "      <td>0</td>\n",
       "      <td>0</td>\n",
       "    </tr>\n",
       "    <tr>\n",
       "      <th>31</th>\n",
       "      <td>0</td>\n",
       "      <td>0</td>\n",
       "    </tr>\n",
       "    <tr>\n",
       "      <th>45</th>\n",
       "      <td>0</td>\n",
       "      <td>0</td>\n",
       "    </tr>\n",
       "  </tbody>\n",
       "</table>\n",
       "</div>"
      ],
      "text/plain": [
       "    actual  fitted\n",
       "82       0       0\n",
       "17       1       1\n",
       "97       0       0\n",
       "31       0       0\n",
       "45       0       0"
      ]
     },
     "execution_count": 27,
     "metadata": {},
     "output_type": "execute_result"
    }
   ],
   "source": [
    "#Let's now see how our model peformed in train and test data.\n",
    "\n",
    "#This block is associated with train and test data respectively.\n",
    "#it shows the result of the  actual values against fitten ones.\n",
    "lreg_train = pd.DataFrame({ \"actual\": y_train, \"fitted\": pipe.predict(X_train) })\n",
    "lreg_test = pd.DataFrame({ \"actual\": y_test, \"fitted\": pipe.predict(X_test) })\n",
    "\n",
    "\n",
    "rndf_train = pd.DataFrame({ \"actual\": y, \"fitted\": rndf_clf.predict(X) })\n",
    "\n",
    "lreg_train.head()"
   ]
  },
  {
   "cell_type": "code",
   "execution_count": 38,
   "metadata": {},
   "outputs": [
    {
     "data": {
      "text/html": [
       "<div>\n",
       "<style scoped>\n",
       "    .dataframe tbody tr th:only-of-type {\n",
       "        vertical-align: middle;\n",
       "    }\n",
       "\n",
       "    .dataframe tbody tr th {\n",
       "        vertical-align: top;\n",
       "    }\n",
       "\n",
       "    .dataframe thead th {\n",
       "        text-align: right;\n",
       "    }\n",
       "</style>\n",
       "<table border=\"1\" class=\"dataframe\">\n",
       "  <thead>\n",
       "    <tr style=\"text-align: right;\">\n",
       "      <th></th>\n",
       "      <th>actual</th>\n",
       "      <th>fitted</th>\n",
       "    </tr>\n",
       "  </thead>\n",
       "  <tbody>\n",
       "    <tr>\n",
       "      <th>9</th>\n",
       "      <td>0</td>\n",
       "      <td>0</td>\n",
       "    </tr>\n",
       "    <tr>\n",
       "      <th>72</th>\n",
       "      <td>0</td>\n",
       "      <td>0</td>\n",
       "    </tr>\n",
       "    <tr>\n",
       "      <th>12</th>\n",
       "      <td>1</td>\n",
       "      <td>1</td>\n",
       "    </tr>\n",
       "    <tr>\n",
       "      <th>107</th>\n",
       "      <td>0</td>\n",
       "      <td>0</td>\n",
       "    </tr>\n",
       "    <tr>\n",
       "      <th>37</th>\n",
       "      <td>0</td>\n",
       "      <td>0</td>\n",
       "    </tr>\n",
       "  </tbody>\n",
       "</table>\n",
       "</div>"
      ],
      "text/plain": [
       "     actual  fitted\n",
       "9         0       0\n",
       "72        0       0\n",
       "12        1       1\n",
       "107       0       0\n",
       "37        0       0"
      ]
     },
     "execution_count": 38,
     "metadata": {},
     "output_type": "execute_result"
    }
   ],
   "source": [
    "#This shows the tail result of the actual values against the fitted ones\n",
    "lreg_train.tail()"
   ]
  },
  {
   "cell_type": "markdown",
   "metadata": {},
   "source": [
    "## 6. Discussion\n",
    "\n",
    "\n",
    "Let's define a pipeline as follow:\n",
    "\n",
    "Standardization was done for X for because the features of the iput data X have difference beteween their range(some columns have values as low as 0.1 and others as high as 430.35). Standardization was used to transform features to comparable scales before implementing SVM\n",
    "\n",
    "SVM was one models used first to compare accuracries accross models before picking the best fit for the data. I decided to try linear SVM kernel because the data had a large number of features and it is linearly separable in high dimensional space.Accuracy of all SVM kernel of the test data set was printed out for evaluation. I did not show to prediction result and confusion matrix for SVM because i ended up selecting logistic regression.\n",
    "\n",
    "Creating tuning and validation data for k-cross validation before using Logistic regression. This was done to ensure that every observation in the dataset has chance to appearing because performs training 'k'number of time which gives a better insight.Tuning data is composed by 80% of data, the remaining 20% of data goes to the validation set.The variable random_state indicates the seed of the shuffling for reproducibility reasons\n",
    "\n",
    "LOGISTIC REGRESSION\n",
    "As for the logistic regression, we are using the LogisticRegression module from sklearn.linear_model.\n",
    "\n",
    "Standardisation of features:- Standardization was used to transform features to comparable scales before implementing logistic regression\n",
    "Logistic regression was used since we were solving a binary classification problem.\n",
    "Random Forest was also explored to further see the best model because it is a model good for datasets with numerous features\n",
    "\n",
    "Some important parameters defined in the LogisticRegression module are:\n",
    "\n",
    "C. Inverse of regularization strength; must be a positive float.Smaller values specify stronger regularization which is why i used 1.\n",
    "Random_state was used reproducibility reasons.\n",
    "\n",
    "From the results it can be observed that there is only 1 misclassification for ICU cases and 1 misclassification for NonICU cases with Logistic regression and the accuracy of training to test set was excellent\n",
    "\n",
    "Also the prediction result(actual and fitted) on unseen data shows linear regression performs well on the unseen data.\n",
    "\n",
    "The limitation of my chosen model is that it has a very high probability of ignoring outliers in the data and it is not always the best model for a dataset with way more features than observations.\n",
    "\n",
    "ALternatively, SVM is a second option to solve the given machine learning question."
   ]
  },
  {
   "cell_type": "markdown",
   "metadata": {},
   "source": [
    "## 7. Complexity\n",
    "\n"
   ]
  },
  {
   "cell_type": "code",
   "execution_count": null,
   "metadata": {},
   "outputs": [],
   "source": [
    "It took my chosen machne learning model 2.262s to run\n",
    "Logistic Regression\n",
    "\n",
    "Train Time Complexity=O(n*m)\n",
    "Test Time Complexity=O(m)\n",
    "Space Complexity = O(m)\n",
    "n = number of training examples, m = number of features\n",
    "\n",
    "\n",
    "Overall time complexity = T(n) = n - 1"
   ]
  }
 ],
 "metadata": {
  "kernelspec": {
   "display_name": "Python 3",
   "language": "python",
   "name": "python3"
  },
  "language_info": {
   "codemirror_mode": {
    "name": "ipython",
    "version": 3
   },
   "file_extension": ".py",
   "mimetype": "text/x-python",
   "name": "python",
   "nbconvert_exporter": "python",
   "pygments_lexer": "ipython3",
   "version": "3.8.3"
  }
 },
 "nbformat": 4,
 "nbformat_minor": 4
}
