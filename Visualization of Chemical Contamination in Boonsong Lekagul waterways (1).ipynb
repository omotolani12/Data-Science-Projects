{
 "cells": [
  {
   "cell_type": "code",
   "execution_count": null,
   "metadata": {},
   "outputs": [],
   "source": [
    "import altair as alt\n",
    "import pandas as pd\n",
    "data = pd.read_csv(\"readings.csv\")"
   ]
  },
  {
   "cell_type": "code",
   "execution_count": null,
   "metadata": {},
   "outputs": [],
   "source": [
    "data.head()"
   ]
  },
  {
   "cell_type": "code",
   "execution_count": null,
   "metadata": {},
   "outputs": [],
   "source": [
    "Data Processing:- The Visualization below shows all the chemicals and their level of readings in the dataset. \n",
    "This was visualized so the most frequent chemicals can used for visualization purpose because chemicals with few readings might not show significant changes over time."
   ]
  },
  {
   "cell_type": "code",
   "execution_count": null,
   "metadata": {},
   "outputs": [],
   "source": [
    "alt.data_transformers.disable_max_rows()\n",
    "alt.Chart(data).mark_bar().encode(\n",
    "    x = 'count(value)',\n",
    "    y=alt.Y('measure', sort='-x')\n",
    ")"
   ]
  },
  {
   "cell_type": "code",
   "execution_count": null,
   "metadata": {},
   "outputs": [],
   "source": [
    "Analysis:- The graph below was used for a general analysis of the dataset to discover insightful findings across all chemicals in the dataset."
   ]
  },
  {
   "cell_type": "code",
   "execution_count": null,
   "metadata": {},
   "outputs": [],
   "source": [
    "measure_list = list(data['measure'].unique())\n",
    "alt.data_transformers.disable_max_rows()\n",
    "                    \n",
    "input_dropdown = alt.binding_select(options=measure_list)\n",
    "selection = alt.selection_single(fields=['measure'], bind=input_dropdown, name='measure')\n",
    "alt.Chart(data).mark_line().encode( \n",
    "    x='date:T',\n",
    "    y='value',\n",
    "    color='location:N',\n",
    "    tooltip='location' \n",
    ").add_selection( \n",
    "    selection \n",
    ").transform_filter( \n",
    "    selection \n",
    ")\n"
   ]
  },
  {
   "cell_type": "code",
   "execution_count": null,
   "metadata": {},
   "outputs": [],
   "source": [
    "QUESTION ONE\n",
    "Anomaly:- In Tansanee, Sodium was never disposed or used till 2014 and it has the highest amount of chemical contamination of sodium across all locations.\n",
    "\n",
    "Effectiveness of Visualization:- Scatter Plot and Line graph\n",
    "Scatter Plot was quite effective to show a difference in the value of sodium disposed.It is effective because it made it easy to see the outliers in readings of sodium over time.\n",
    "The Line graph was used to enhance the visualization by showing the changes in Tasanee over time, it was used to focus on the detected anomaly found in the scatter plot\n",
    "\n",
    "Marks:- Points and Lines\n",
    "Point was suitable because we were comparing a large number of chemical readings across all more than one location. This helped us identify sodium anomaly across all the locations\n",
    "Line was suitable because it showed the significant change in the use of sodium over time.\n",
    "\n",
    "Channels:-X-axis: Time (Temporal):- This was used to generate the graph\n",
    "Y-axis: Measurements (Quantitative) :- This was used to generate the graph\n",
    "Color(Nominal):- This was used to distinguish between locations\n",
    "\n",
    "Advanced Features:-\n",
    "Tooltip:- This was used to identify each value when a user interacts with the visualization.\n",
    "Data Transformer:- The dataset being used includes more that 500 row, this command line was used to disable rows limitation in Altair\n",
    "Filtering:- This was used to focus on only data for sodium to make the visualization easy to understand\n",
    "Multiple views:- A dashboard was used to show two different visualizations to make the finding easier the understand over time.\n",
    "\n"
   ]
  },
  {
   "cell_type": "code",
   "execution_count": null,
   "metadata": {},
   "outputs": [],
   "source": [
    "import altair as alt\n",
    "alt.data_transformers.disable_max_rows()\n",
    "Minigraph = (\n",
    "alt.Chart(data).mark_line().encode(\n",
    "    x='date:T',\n",
    "    y='value:Q',\n",
    "    color='location:N',\n",
    "    tooltip='value' \n",
    ").transform_filter(\n",
    "     (datum.measure == 'Sodium') & (datum.location == 'Tansanee')\n",
    "    \n",
    ")\n",
    "    .properties(width=400, height=300, title=\"Sodium Contimination at Tansanee over time -- detail view\")\n",
    ")\n",
    "\n",
    "Details =(\n",
    "    alt.Chart(data).mark_point().encode(\n",
    "    x='date:T',\n",
    "    y='value:Q',\n",
    "    color='location:N',\n",
    "    tooltip='value' \n",
    ").transform_filter(\n",
    "     (datum.measure == 'Sodium')\n",
    "    \n",
    ")\n",
    "     .properties(width=600, height=400, title=\"Sodium across all locations -- detail view\")\n",
    "    \n",
    ")\n",
    "Details | Minigraph"
   ]
  },
  {
   "cell_type": "code",
   "execution_count": null,
   "metadata": {},
   "outputs": [],
   "source": [
    "QUESTION ONE\n",
    "Anomaly:- There is a significant increase in the disposal of Aluminium in October 2008 - April 2009 at Chai.\n",
    "    \n",
    "Effectiveness of Visualization:- Scatter Plot and Line graph\n",
    "Scatter Plot was quite effective to show a difference in the value of Aluminium disposed. It is effective because it made it easy to see the outliers in readings of aluminium over time\n",
    "The Line graph was used to enhance the visualization by showing the changes in Chai over time, it was used to focus on the detected anomaly found in the scatter plot.\n",
    "\n",
    "Marks:- Points and Lines\n",
    "Point was suitable because we were comparing a large number of chemical readings across more than one location. This helped us identify aluminium high usage across all the locations\n",
    "Line was suitable because it showed the significant increase in the use of aluminium over time.\n",
    "\n",
    "Channels:-X-axis: Time (Temporal):- This was used to generate the graph\n",
    "Y-axis: Measurements (Quantitative) :- This was used to generate the graph\n",
    "Color(Nominal):- This was used to distinguish between locations\n",
    "\n",
    "Advanced Features:-\n",
    "Tooltip:- This was used to identify each value when a user interacts with the visualization.\n",
    "Data Transformer:- The dataset being used includes more that 500 row, this command line was used to disable rows limitation in Altair\n",
    "Filtering:- This was used to focus on only data for aluminium to make the visualization easy to understand\n",
    "Multiple Views:- A dashboard was used to show two different visualization to make the finding easier the understand over time."
   ]
  },
  {
   "cell_type": "code",
   "execution_count": null,
   "metadata": {},
   "outputs": [],
   "source": [
    "import altair as alt\n",
    "alt.data_transformers.disable_max_rows()\n",
    "Minigraph = (\n",
    "alt.Chart(data).mark_line().encode(\n",
    "    x='date:T',\n",
    "    y='value:Q',\n",
    "    color='location:N',\n",
    "    tooltip='value' \n",
    ").transform_filter(\n",
    "     (datum.measure == 'Aluminium') & (datum.location == 'Chai')\n",
    "    \n",
    ")\n",
    "    .properties(width=400, height=300, title=\"Sodium Contimination at Tansanee over time -- detail view\")\n",
    ")\n",
    "\n",
    "Details =(\n",
    "    alt.Chart(data).mark_point().encode(\n",
    "    x='date:T',\n",
    "    y='value:Q',\n",
    "    color='location:N',\n",
    "    tooltip='value' \n",
    ").transform_filter(\n",
    "     (datum.measure == 'Aluminium')\n",
    "    \n",
    ")\n",
    "     .properties(width=600, height=400, title=\"Sodium across all locations -- detail view\")\n",
    "    \n",
    ")\n",
    "Details | Minigraph"
   ]
  },
  {
   "cell_type": "code",
   "execution_count": null,
   "metadata": {},
   "outputs": [],
   "source": [
    "QUESTION ONE\n",
    "Anomaly:- There is a significant increase in the disposal of AGOC-3A in October 2015 - April 2016 at Boonsri.\n",
    "    \n",
    "Effectiveness of Visualization:- Line graph\n",
    "The Line graph was used effective to show the significant increase in the disposal of AGOC-3A at Boonsri over time. \n",
    "\n",
    "Marks:- Lines\n",
    "Line was suitable because it showed the trend and changes across all locations clearly\n",
    "\n",
    "Channels:-X-axis: Time (Temporal):- This was used to generate the graph\n",
    "Y-axis: Measurements (Quantitative) :- This was used to generate the graph\n",
    "Color(Nominal):- This was used to distinguish between locations\n",
    "\n",
    "Advanced Features:-\n",
    "Tooltip:- This was used to identify each value when a user interacts with the visualization.\n",
    "Data Transformer:- The dataset being used includes more that 500 row, this command line was used to disable rows limitation in Altair\n",
    "Filtering:- This was used to focus on only data for AGOC-3A to make the visualization easy to understand\n"
   ]
  },
  {
   "cell_type": "code",
   "execution_count": null,
   "metadata": {},
   "outputs": [],
   "source": [
    "import altair as alt\n",
    "alt.data_transformers.disable_max_rows()\n",
    "alt.Chart(data).mark_line().encode(\n",
    "    x='date:T',\n",
    "    y='value:Q',\n",
    "    color='location:N',\n",
    "    tooltip='value' \n",
    ").transform_filter(\n",
    "     (datum.measure == 'AGOC-3A')\n",
    "    \n",
    ")"
   ]
  },
  {
   "cell_type": "code",
   "execution_count": null,
   "metadata": {},
   "outputs": [],
   "source": [
    "QUESTION 2\n",
    "Data Quality:- PAHs was not observed often.\n",
    "It was only found on Tuesday, 15th of October 2002 across all locations. PAHs data quality is uncertain and is not advisable to be used for analysis of chemical contamination in the Boonsong Lekagul waterways.\n",
    "\n",
    "Effectiveness of Visualization:- Scatter Plot \n",
    "Scatter Plot was quite effective to show a difference in the value of PAHs across all location. \n",
    "\n",
    "Marks:- Points\n",
    "Point was suitable because it helped to identify the hidden pattern/usage of PAHs in the readings.\n",
    "\n",
    "Channels:-X-axis: Time (Temporal):- This was used to generate the graph\n",
    "Y-axis: Measurements (Quantitative) :- This was used to generate the graph\n",
    "Color(Nominal):- This was used to distinguish between locations\n",
    "\n",
    "Advanced Features:-\n",
    "Tooltip:- This was used to identify each value when a user interacts with the visualization.\n",
    "Data Transformer:- The dataset being used includes more that 500 row, this command line was used to disable rows limitation in Altair\n",
    "Filtering:- This was used to focus on only data for  PAHs to make the visualization easy to understand\n"
   ]
  },
  {
   "cell_type": "code",
   "execution_count": null,
   "metadata": {},
   "outputs": [],
   "source": [
    "import altair as alt\n",
    "alt.data_transformers.disable_max_rows()\n",
    "alt.Chart(data).mark_point().encode(\n",
    "    x='date:T',\n",
    "    y='value:Q',\n",
    "    color='location:N',\n",
    "    tooltip='value' \n",
    ").transform_filter(\n",
    "     (datum.measure == 'PAHs')\n",
    "    \n",
    ")"
   ]
  },
  {
   "cell_type": "code",
   "execution_count": null,
   "metadata": {},
   "outputs": [],
   "source": [
    "QUESTION TWO\n",
    "Data Quality:- It is recommended to increase testing at Achara, Tasanee and Decha so as produce more accuration analysis of contaminations in these areas.\n",
    "\n",
    "Effectiveness of Visualization:- Bar Chart\n",
    "Bar Chart was used for identifying the level of testing done in all location because it is easier to see the linear growth and perform a comparison across all locations.\n",
    "\n",
    "\n",
    "Marks:- Bars\n",
    "Bars were suitable because we are comparing a small amount of categorical data\n",
    "\n",
    "Channels:-X-axis: Value (Distinct):- This was used to generate the graph\n",
    "Y-axis(location) :- This was used to generate the graph\n",
    "\n",
    "\n",
    "Advanced Features:-\n",
    "Tooltip:- This was used to identify each value when a user interacts with the visualization.\n",
    "Data Transformer:- The dataset being used includes more that 500 row, this command line was used to disable rows limitation in Altair\n",
    "Sorting:- This was used to attange the finding form acending to descending order to make the visualization easy to understand\n"
   ]
  },
  {
   "cell_type": "code",
   "execution_count": null,
   "metadata": {},
   "outputs": [],
   "source": [
    "alt.data_transformers.disable_max_rows()\n",
    "alt.Chart(data).mark_bar().encode(\n",
    "    x='distinct(value)',\n",
    "    y=alt.Y('location', sort='-x'),\n",
    "     tooltip ='distinct(value)'\n",
    ")"
   ]
  },
  {
   "cell_type": "code",
   "execution_count": null,
   "metadata": {},
   "outputs": [],
   "source": [
    "QUESTION TWO\n",
    "Data Quality:- PCB 52 was not observed often.\n",
    "It was only found on Friday, 15th of August 2003 across all locations. PCB 52 data quality is uncertain and is not advisable to be used for analysis of chemical contamination in the Boonsong Lekagul waterways.\n",
    "\n",
    "Effectiveness of Visualization:- Stacked Bar Chart\n",
    "It enables us to perform a quick relative comparison of multiple values for one chemical.\n",
    "\n",
    "Marks:- Bars\n",
    "Bars were suitable because we are able to see the value PCB 52 disposed over time.\n",
    "\n",
    "Channels:-X-axis: Value (Quantitative):- used to generate the graph\n",
    "Y-axis(date:- Temporal):- used to generate the graph\n",
    "Color(Nominal):- This was used to distinguish between locations\n",
    "\n",
    "\n",
    "Advanced Features:-\n",
    "Tooltip:- This was used to identify each value when a user interacts with the visualization.\n",
    "Data Transformer:- The dataset being used includes more that 500 row, this command line was used to disable rows limitation in Altair\n",
    "Filtering:- This was used to focus on only data for PCB52 to make the visualization easy to understand\n"
   ]
  },
  {
   "cell_type": "code",
   "execution_count": null,
   "metadata": {},
   "outputs": [],
   "source": [
    "import altair as alt\n",
    "\n",
    "alt.Chart(data).mark_bar().encode(\n",
    "    x='value:Q',\n",
    "    y='date:T',\n",
    "    color='location:N',\n",
    "    tooltip='value' \n",
    ").transform_filter(\n",
    "     (datum.measure == 'PCB 52')\n",
    "    \n",
    ")"
   ]
  }
 ],
 "metadata": {
  "kernelspec": {
   "display_name": "Python 3",
   "language": "python",
   "name": "python3"
  },
  "language_info": {
   "codemirror_mode": {
    "name": "ipython",
    "version": 3
   },
   "file_extension": ".py",
   "mimetype": "text/x-python",
   "name": "python",
   "nbconvert_exporter": "python",
   "pygments_lexer": "ipython3",
   "version": "3.8.3"
  }
 },
 "nbformat": 4,
 "nbformat_minor": 4
}
